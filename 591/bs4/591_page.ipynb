{
 "cells": [
  {
   "cell_type": "code",
   "execution_count": 1,
   "metadata": {
    "collapsed": true
   },
   "outputs": [],
   "source": [
    "# -*- coding: utf-8 -*-\n",
    "from bs4 import BeautifulSoup"
   ]
  },
  {
   "cell_type": "code",
   "execution_count": 2,
   "metadata": {
    "collapsed": true
   },
   "outputs": [],
   "source": [
    "#global \n",
    "soup=None\n"
   ]
  },
  {
   "cell_type": "code",
   "execution_count": 3,
   "metadata": {
    "collapsed": true
   },
   "outputs": [],
   "source": [
    "def start():\n",
    "    global soup\n",
    "    soup=BeautifulSoup(open('591_page.html'),'lxml',from_encoding='utf-8')\n",
    "    #print(soup.prettify(\"utf-8\"))"
   ]
  },
  {
   "cell_type": "code",
   "execution_count": 19,
   "metadata": {
    "collapsed": false
   },
   "outputs": [],
   "source": [
    "def print_element(element,prefix=\"\",postfix=\"\",enable=False):\n",
    "    if enable!=True:\n",
    "        return\n",
    "    print prefix\n",
    "    print element.prettify(\"utf-8\")\n",
    "    print postfix\n",
    "    pass\n",
    "\n",
    "def print_elements(elements,enable=False):\n",
    "    if enable!=True:\n",
    "        return\n",
    "    print \"total elements %d \" % len(elements)\n",
    "    count = 0;\n",
    "    for each in elements:\n",
    "        print_element(each,\" =============elements ===========\"+str(count), \"\",True)\n",
    "        count=count+1\n"
   ]
  },
  {
   "cell_type": "code",
   "execution_count": 130,
   "metadata": {
    "collapsed": false
   },
   "outputs": [],
   "source": [
    "\n",
    "def handle_page(pic_sub,overview_sub,brief_sub,thing_sub):\n",
    "    global soup\n",
    "    image_sections =soup.find_all('div',attrs={'class':'imgList'})\n",
    "    print_elements(image_sections,False)\n",
    "\n",
    "    '''\n",
    "    # 2 section , only first is usable.\n",
    "     for each in image_sections:\n",
    "        print \"=======\"\n",
    "        print each.prettify(\"utf-8\")\n",
    "    '''\n",
    "    pic_sub(image_sections[0])\n",
    "    \n",
    "    right_box=soup.find_all('div',attrs={'class':'rightBox'})\n",
    "    print_elements(right_box,False)\n",
    "    overview_sub(right_box[0])\n",
    "    brief_sections=soup.find_all('ul',attrs={'class':'clearfix labelList'})\n",
    "    print_elements(brief_sections,False)\n",
    "    brief_sub(brief_sections[0])\n",
    "    thing_sections=soup.find_all('ul',attrs={'class':'facility clearfix'})\n",
    "    print_elements(thing_sections,False)\n",
    "    thing_sub(thing_sections[0])\n",
    "    \n"
   ]
  },
  {
   "cell_type": "code",
   "execution_count": 151,
   "metadata": {
    "collapsed": false
   },
   "outputs": [],
   "source": [
    "\n",
    "\n",
    "def handle_thing(section):\n",
    "    print_element( section,\"\",\"\",False)\n",
    "    lis=section.find_all('li')\n",
    "    print_elements(lis,False)\n",
    "    for each in lis:\n",
    "        key=each.text\n",
    "        have=each.span.attrs['class'][0]\n",
    "        print type( have)\n",
    "        \n",
    "        if have != \"no\":\n",
    "            have=\"yes\"\n",
    "        print \"result : %s %s \" %(key,have)\n",
    "    pass\n",
    "\n",
    "def handle_address():\n",
    "    pass"
   ]
  },
  {
   "cell_type": "code",
   "execution_count": 140,
   "metadata": {
    "collapsed": false
   },
   "outputs": [],
   "source": [
    "def handle_pics(section):\n",
    "        #image_section=soup.find(\"div\",attrs={'class':'imgBox'})\n",
    "    print_element(section,\"==\"*3,\"\",False)\n",
    "    ols=section.find_all('ol')\n",
    "    print_elements(ols,False)\n",
    "    #only 1 ol \n",
    "    imgs=ols[0].find_all('img')\n",
    "    print_elements(imgs,False)\n",
    "    for each in imgs:\n",
    "        address=each.attrs['lazysrc']\n",
    "        title=each.attrs['title'];\n",
    "        print address, title\n",
    "    \n",
    "    pass\n"
   ]
  },
  {
   "cell_type": "code",
   "execution_count": 90,
   "metadata": {
    "collapsed": false
   },
   "outputs": [],
   "source": [
    "\n",
    "def handle_overview(section):\n",
    "    lis=section.find_all('li')\n",
    "    print_elements(lis,False)\n",
    "    area=lis[0].text\n",
    "    floor=lis[1].text\n",
    "    house_type=lis[2].text\n",
    "    room_type=lis[3].text\n",
    "    community=lis[4].text\n",
    "    \n",
    "    price= section.find('div',attrs={'class', 'price clearfix'}).text\n",
    "    phone=0 ##TODO : OCR to get data\n",
    "    print area,floor,house_type,room_type,community,price\n",
    "    time_phone=section.find_all('span')\n",
    "    print_elements(time_phone,False)\n",
    "    update=time_phone[0].text\n",
    "    due=time_phone[1].text\n",
    "    mobile=time_phone[2].text\n",
    "    num= time_phone[3].find('img').attrs['src']\n",
    "    \n",
    "    print update,due,mobile,num\n",
    "    #update=explain clearfix\n",
    "    #due=\n",
    "        \n",
    "    pass\n"
   ]
  },
  {
   "cell_type": "code",
   "execution_count": 119,
   "metadata": {
    "collapsed": true
   },
   "outputs": [],
   "source": [
    "\n",
    "def handle_brief(section):\n",
    "    print_element(section,\"\",\"\",enable=False)\n",
    "    lis=section.find_all('li')\n",
    "    print_elements(lis,False)\n",
    "    brief_dic={}\n",
    "    for each in lis:\n",
    "        #print each.text\n",
    "        ds= each.text.split(u'：')\n",
    "        print \"%s : %s\" % (ds[0],ds[1])\n",
    "        brief_dic[ds[0]]=ds[1]\n",
    "    #print brief_dic\n",
    "        \n",
    "    pass"
   ]
  },
  {
   "cell_type": "code",
   "execution_count": 9,
   "metadata": {
    "collapsed": false
   },
   "outputs": [],
   "source": [
    "start()\n"
   ]
  },
  {
   "cell_type": "code",
   "execution_count": 152,
   "metadata": {
    "collapsed": false
   },
   "outputs": [
    {
     "name": "stdout",
     "output_type": "stream",
     "text": [
      "https://hp2.591.com.tw/house/active/2013/06/03/137023094317905901_125x85.crop.jpg 梳妝台.書桌\n",
      "https://hp2.591.com.tw/house/active/2013/06/03/137023237458067902_125x85.crop.jpg 客廳1\n",
      "https://hp2.591.com.tw/house/active/2013/06/03/137023118235087207_125x85.crop.jpg 客廳2\n",
      "https://hp2.591.com.tw/house/active/2013/06/03/137023242703779304_125x85.crop.jpg 客廳3\n",
      "https://hp2.591.com.tw/house/active/2013/06/03/137023122652604809_125x85.crop.jpg 臥室1\n",
      "https://hp2.591.com.tw/house/active/2013/06/03/137023124132233506_125x85.crop.jpg 餐廳\n",
      "https://hp2.591.com.tw/house/active/2013/06/03/137023125381599103_125x85.crop.jpg 廚房1\n",
      "https://hp2.591.com.tw/house/active/2013/06/03/137023127733867505_125x85.crop.jpg 廚房2\n",
      "https://hp1.591.com.tw/house/active/2011/12/24/132472125526119104_125x85.crop.jpg 衣櫥\n",
      "https://hp1.591.com.tw/house/active/2011/12/27/132498506460684903_125x85.crop.jpg 社區景觀1\n",
      "https://hp1.591.com.tw/house/active/2011/12/27/132498506118900601_125x85.crop.jpg 社區景觀2\n",
      "https://hp1.591.com.tw/house/active/2011/12/27/132498505180476209_125x85.crop.jpg 健身房\n",
      "https://hp1.591.com.tw/house/active/2011/12/27/132498505483312104_125x85.crop.jpg 公共洗衣房\n",
      "https://hp1.591.com.tw/house/active/2011/12/27/132498580043032702_125x85.crop.jpg 衛浴設備spa蓮蓬頭\n",
      "https://hp2.591.com.tw/house/active/2013/06/03/137023266502848003_125x85.crop.jpg \n",
      "坪數 :  16.8坪 樓層 :  3F/15F 型態 :  電梯大樓 現況 :  獨立套房 社區 :  四季紐約 \n",
      "18,000 元/月 \n",
      "\n",
      "更新於：6分鐘內 有效期：2017-11-15  ./591_page_files/showPhone.php\n",
      "押金 : 三個月\n",
      "車 位 : 無\n",
      "管理費 : 1008元/月\n",
      "最短租期 : 一年\n",
      "開伙 : 可以\n",
      "養寵物 : 不可以\n",
      "身份要求 : 上班族、家庭\n",
      "性別要求 : 男女生皆可\n",
      "可遷入日 : 隨時 \n",
      "{u'\\u53ef\\u9077\\u5165\\u65e5': u'\\u96a8\\u6642 ', u'\\u62bc\\u91d1': u'\\u4e09\\u500b\\u6708', u'\\u990a\\u5bf5\\u7269': u'\\u4e0d\\u53ef\\u4ee5', u'\\u6700\\u77ed\\u79df\\u671f': u'\\u4e00\\u5e74', u'\\u8eca \\u4f4d': u'\\u7121', u'\\u6027\\u5225\\u8981\\u6c42': u'\\u7537\\u5973\\u751f\\u7686\\u53ef', u'\\u7ba1\\u7406\\u8cbb': u'1008\\u5143/\\u6708', u'\\u8eab\\u4efd\\u8981\\u6c42': u'\\u4e0a\\u73ed\\u65cf\\u3001\\u5bb6\\u5ead', u'\\u958b\\u4f19': u'\\u53ef\\u4ee5'}\n",
      "total elements 13 \n",
      " =============elements ===========0\n",
      "<li class=\"clearfix\">\n",
      " <span class=\"hometools_1\">\n",
      " </span>\n",
      " 桌子\n",
      "</li>\n",
      "\n",
      "\n",
      " =============elements ===========1\n",
      "<li class=\"clearfix\">\n",
      " <span class=\"hometools_3\">\n",
      " </span>\n",
      " 椅子\n",
      "</li>\n",
      "\n",
      "\n",
      " =============elements ===========2\n",
      "<li class=\"clearfix\">\n",
      " <span class=\"hometools_4\">\n",
      " </span>\n",
      " 衣櫃\n",
      "</li>\n",
      "\n",
      "\n",
      " =============elements ===========3\n",
      "<li class=\"clearfix\">\n",
      " <span class=\"hometools_5\">\n",
      " </span>\n",
      " 床\n",
      "</li>\n",
      "\n",
      "\n",
      " =============elements ===========4\n",
      "<li class=\"clearfix\">\n",
      " <span class=\"hometools_7\">\n",
      " </span>\n",
      " 沙發\n",
      "</li>\n",
      "\n",
      "\n",
      " =============elements ===========5\n",
      "<li class=\"clearfix\">\n",
      " <span class=\"fixture_1\">\n",
      " </span>\n",
      " 熱水器\n",
      "</li>\n",
      "\n",
      "\n",
      " =============elements ===========6\n",
      "<li class=\"clearfix\">\n",
      " <span class=\"fixture_4\">\n",
      " </span>\n",
      " 電視\n",
      "</li>\n",
      "\n",
      "\n",
      " =============elements ===========7\n",
      "<li class=\"clearfix\">\n",
      " <span class=\"fixture_5\">\n",
      " </span>\n",
      " 冰箱\n",
      "</li>\n",
      "\n",
      "\n",
      " =============elements ===========8\n",
      "<li class=\"clearfix\">\n",
      " <span class=\"fixture_6\">\n",
      " </span>\n",
      " 冷氣\n",
      "</li>\n",
      "\n",
      "\n",
      " =============elements ===========9\n",
      "<li class=\"clearfix\">\n",
      " <span class=\"fixture_7\">\n",
      " </span>\n",
      " 洗衣機\n",
      "</li>\n",
      "\n",
      "\n",
      " =============elements ===========10\n",
      "<li class=\"clearfix\">\n",
      " <span class=\"no\">\n",
      " </span>\n",
      " 天然瓦斯\n",
      "</li>\n",
      "\n",
      "\n",
      " =============elements ===========11\n",
      "<li class=\"clearfix\">\n",
      " <span class=\"no\">\n",
      " </span>\n",
      " 網路\n",
      "</li>\n",
      "\n",
      "\n",
      " =============elements ===========12\n",
      "<li class=\"clearfix\">\n",
      " <span class=\"no\">\n",
      " </span>\n",
      " 第四台\n",
      "</li>\n",
      "\n",
      "\n",
      "<type 'str'>\n",
      "result : 桌子 yes \n",
      "<type 'str'>\n",
      "result : 椅子 yes \n",
      "<type 'str'>\n",
      "result : 衣櫃 yes \n",
      "<type 'str'>\n",
      "result : 床 yes \n",
      "<type 'str'>\n",
      "result : 沙發 yes \n",
      "<type 'str'>\n",
      "result : 熱水器 yes \n",
      "<type 'str'>\n",
      "result : 電視 yes \n",
      "<type 'str'>\n",
      "result : 冰箱 yes \n",
      "<type 'str'>\n",
      "result : 冷氣 yes \n",
      "<type 'str'>\n",
      "result : 洗衣機 yes \n",
      "<type 'str'>\n",
      "result : 天然瓦斯 no \n",
      "<type 'str'>\n",
      "result : 網路 no \n",
      "<type 'str'>\n",
      "result : 第四台 no \n"
     ]
    }
   ],
   "source": [
    "handle_page(handle_pics,handle_overview,handle_brief,handle_thing)"
   ]
  },
  {
   "cell_type": "code",
   "execution_count": null,
   "metadata": {
    "collapsed": true
   },
   "outputs": [],
   "source": []
  }
 ],
 "metadata": {
  "kernelspec": {
   "display_name": "Python 2",
   "language": "python",
   "name": "python2"
  },
  "language_info": {
   "codemirror_mode": {
    "name": "ipython",
    "version": 2
   },
   "file_extension": ".py",
   "mimetype": "text/x-python",
   "name": "python",
   "nbconvert_exporter": "python",
   "pygments_lexer": "ipython2",
   "version": "2.7.12"
  }
 },
 "nbformat": 4,
 "nbformat_minor": 1
}

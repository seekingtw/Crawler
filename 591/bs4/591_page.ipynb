{
 "cells": [
  {
   "cell_type": "code",
   "execution_count": 14,
   "metadata": {
    "collapsed": true
   },
   "outputs": [],
   "source": [
    "# -*- coding: utf-8 -*-\n",
    "from bs4 import BeautifulSoup"
   ]
  },
  {
   "cell_type": "code",
   "execution_count": 15,
   "metadata": {
    "collapsed": true
   },
   "outputs": [],
   "source": [
    "#global \n",
    "soup=None\n"
   ]
  },
  {
   "cell_type": "code",
   "execution_count": 16,
   "metadata": {
    "collapsed": true
   },
   "outputs": [],
   "source": [
    "def start():\n",
    "    global soup\n",
    "    soup=BeautifulSoup(open('591_page.html'),'lxml',from_encoding='utf-8')\n",
    "    #print(soup.prettify(\"utf-8\"))"
   ]
  },
  {
   "cell_type": "code",
   "execution_count": 17,
   "metadata": {
    "collapsed": false
   },
   "outputs": [],
   "source": [
    "def print_element(element,prefix=\"\",postfix=\"\",enable=False):\n",
    "    if enable!=True:\n",
    "        return\n",
    "    print prefix\n",
    "    print element.prettify(\"utf-8\")\n",
    "    print postfix\n",
    "    pass\n",
    "\n",
    "def print_elements(elements,enable=False):\n",
    "    if enable!=True:\n",
    "        return\n",
    "    print \"total elements %d \" % len(elements)\n",
    "    count = 0;\n",
    "    for each in elements:\n",
    "        print_element(each,\" =============elements ===========\"+str(count), \"\",True)\n",
    "        count=count+1\n"
   ]
  },
  {
   "cell_type": "code",
   "execution_count": 18,
   "metadata": {
    "collapsed": false
   },
   "outputs": [],
   "source": [
    "\n",
    "def handle_page(pic_sub,overview_sub,brief_sub,thing_sub):\n",
    "    global soup\n",
    "    image_sections =soup.find_all('div',attrs={'class':'imgList'})\n",
    "    print_elements(image_sections,False)\n",
    "\n",
    "    '''\n",
    "    # 2 section , only first is usable.\n",
    "     for each in image_sections:\n",
    "        print \"=======\"\n",
    "        print each.prettify(\"utf-8\")\n",
    "    '''\n",
    "    if pic_sub != None : pic_sub(image_sections[0]) ;\n",
    "    \n",
    "    right_box=soup.find_all('div',attrs={'class':'rightBox'})\n",
    "    print_elements(right_box,False)\n",
    "    overview_sub(right_box[0])\n",
    "    brief_sections=soup.find_all('ul',attrs={'class':'clearfix labelList'})\n",
    "    print_elements(brief_sections,False)\n",
    "    brief_sub(brief_sections[0])\n",
    "    thing_sections=soup.find_all('ul',attrs={'class':'facility clearfix'})\n",
    "    print_elements(thing_sections,False)\n",
    "    if thing_sub != None : thing_sub(thing_sections[0]);\n",
    "    \n"
   ]
  },
  {
   "cell_type": "code",
   "execution_count": 19,
   "metadata": {
    "collapsed": false
   },
   "outputs": [],
   "source": [
    "\n",
    "\n",
    "def handle_thing(section):\n",
    "    print_element( section,\"\",\"\",False)\n",
    "    lis=section.find_all('li')\n",
    "    print_elements(lis,False)\n",
    "    for each in lis:\n",
    "        key=each.text\n",
    "        have=each.span.attrs['class'][0]\n",
    "        print type( have)\n",
    "        \n",
    "        if have != \"no\":\n",
    "            have=\"yes\"\n",
    "        print \"result : %s %s \" %(key,have)\n",
    "    pass\n",
    "\n",
    "def handle_address():\n",
    "    pass"
   ]
  },
  {
   "cell_type": "code",
   "execution_count": 20,
   "metadata": {
    "collapsed": false
   },
   "outputs": [],
   "source": [
    "def handle_pics(section):\n",
    "        #image_section=soup.find(\"div\",attrs={'class':'imgBox'})\n",
    "    print_element(section,\"==\"*3,\"\",False)\n",
    "    ols=section.find_all('ol')\n",
    "    print_elements(ols,False)\n",
    "    #only 1 ol \n",
    "    imgs=ols[0].find_all('img')\n",
    "    print_elements(imgs,False)\n",
    "    for each in imgs:\n",
    "        address=each.attrs['lazysrc']\n",
    "        title=each.attrs['title'];\n",
    "        print address, title\n",
    "    \n",
    "    pass\n"
   ]
  },
  {
   "cell_type": "code",
   "execution_count": 21,
   "metadata": {
    "collapsed": false
   },
   "outputs": [],
   "source": [
    "\n",
    "def handle_overview(section):\n",
    "    lis=section.find_all('li')\n",
    "    print_elements(lis,False)\n",
    "    area=lis[0].text\n",
    "    floor=lis[1].text\n",
    "    house_type=lis[2].text\n",
    "    room_type=lis[3].text\n",
    "    community=lis[4].text\n",
    "    \n",
    "    price= section.find('div',attrs={'class', 'price clearfix'}).text\n",
    "    phone=0 ##TODO : OCR to get data\n",
    "    print area,floor,house_type,room_type,community,price\n",
    "    time_phone=section.find_all('span')\n",
    "    print_elements(time_phone,False)\n",
    "    update=time_phone[0].text\n",
    "    due=time_phone[1].text\n",
    "    mobile=time_phone[2].text\n",
    "    num= time_phone[3].find('img').attrs['src']\n",
    "    \n",
    "    print update,due,mobile,num\n",
    "    #update=explain clearfix\n",
    "    #due=\n",
    "        \n",
    "    pass\n"
   ]
  },
  {
   "cell_type": "code",
   "execution_count": 48,
   "metadata": {
    "collapsed": false
   },
   "outputs": [],
   "source": [
    "\n",
    "def handle_brief(section):\n",
    "    print_element(section,\"\",\"\",enable=False)\n",
    "    lis=section.find_all('li')\n",
    "    print_elements(lis,False)\n",
    "    brief_dic={}\n",
    "    for each in lis:\n",
    "        #print each.text\n",
    "        ds= each.text.split(u'：')\n",
    "        #print \"%s : %s\" % (ds[0],ds[1])\n",
    "        brief_dic[ds[0]]=ds[1]\n",
    "    #print brief_dic\n",
    "    for dic in brief_dic :print \"%s: %s\" %(dic ,brief_dic[dic])\n",
    "    if u'性別要求'  in brief_dic: print \"y3=es\"\n",
    "    pass"
   ]
  },
  {
   "cell_type": "code",
   "execution_count": 23,
   "metadata": {
    "collapsed": false
   },
   "outputs": [],
   "source": [
    "start()\n"
   ]
  },
  {
   "cell_type": "code",
   "execution_count": 49,
   "metadata": {
    "collapsed": false
   },
   "outputs": [
    {
     "name": "stdout",
     "output_type": "stream",
     "text": [
      "坪數 :  16.8坪 樓層 :  3F/15F 型態 :  電梯大樓 現況 :  獨立套房 社區 :  四季紐約 \n",
      "18,000 元/月 \n",
      "\n",
      "更新於：6分鐘內 有效期：2017-11-15  ./591_page_files/showPhone.php\n",
      "可遷入日: 隨時 \n",
      "押金: 三個月\n",
      "養寵物: 不可以\n",
      "最短租期: 一年\n",
      "車 位: 無\n",
      "性別要求: 男女生皆可\n",
      "管理費: 1008元/月\n",
      "身份要求: 上班族、家庭\n",
      "開伙: 可以\n",
      "y3=es\n"
     ]
    }
   ],
   "source": [
    "#handle_page(handle_pics,handle_overview,handle_brief,handle_thing)\n",
    "handle_page(None,handle_overview,handle_brief,None)"
   ]
  },
  {
   "cell_type": "code",
   "execution_count": null,
   "metadata": {
    "collapsed": true
   },
   "outputs": [],
   "source": []
  }
 ],
 "metadata": {
  "kernelspec": {
   "display_name": "Python 2",
   "language": "python",
   "name": "python2"
  },
  "language_info": {
   "codemirror_mode": {
    "name": "ipython",
    "version": 2
   },
   "file_extension": ".py",
   "mimetype": "text/x-python",
   "name": "python",
   "nbconvert_exporter": "python",
   "pygments_lexer": "ipython2",
   "version": "2.7.12"
  }
 },
 "nbformat": 4,
 "nbformat_minor": 1
}
